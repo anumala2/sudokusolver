{
 "cells": [
  {
   "cell_type": "markdown",
   "metadata": {},
   "source": [
    "Datasets.\n",
    "\n",
    "NIST: \n",
    "https://catalog.data.gov/dataset/nist-handprinted-forms-and-characters-nist-special-database-19\n",
    "\n",
    "https://www.nist.gov/itl/iad/image-group/emnist-dataset\n",
    "      \n",
    "\n",
    "UCI: \n",
    "http://archive.ics.uci.edu/ml/datasets.html\n",
    "\n",
    "http://archive.ics.uci.edu/ml/datasets/UJI+Pen+Character\n",
    "     \n",
    "\n",
    "Distorting the MNIST Image Data Set: https://docs.microsoft.com/en-us/archive/msdn-magazine/2014/july/test-run-distorting-the-mnist-image-data-set"
   ]
  },
  {
   "cell_type": "code",
   "execution_count": null,
   "metadata": {},
   "outputs": [],
   "source": []
  }
 ],
 "metadata": {
  "kernelspec": {
   "display_name": "Python 3",
   "language": "python",
   "name": "python3"
  },
  "language_info": {
   "codemirror_mode": {
    "name": "ipython",
    "version": 3
   },
   "file_extension": ".py",
   "mimetype": "text/x-python",
   "name": "python",
   "nbconvert_exporter": "python",
   "pygments_lexer": "ipython3",
   "version": "3.8.5"
  }
 },
 "nbformat": 4,
 "nbformat_minor": 4
}
